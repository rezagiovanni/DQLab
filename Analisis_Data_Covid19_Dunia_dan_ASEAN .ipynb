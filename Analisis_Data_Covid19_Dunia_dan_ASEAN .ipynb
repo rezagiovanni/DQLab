{
  "nbformat": 4,
  "nbformat_minor": 0,
  "metadata": {
    "colab": {
      "name": "Analisis Data Covid19_Dunia dan ASEAN.ipynb",
      "provenance": [],
      "collapsed_sections": [
        "ozYzGkmi1Pcy",
        "BuC2Cpve5hka",
        "3GwDb2aq0oQ-",
        "kgKPdo3t5nuv",
        "Xf11-OgX6l9n",
        "Q8m3b2CD1dJz",
        "7-3R1b2M12Wk",
        "zAUffTF82ATU",
        "a223Tr_25sKV",
        "IHnoh-T-2U3c",
        "kOgdyIvN2mxB",
        "SBvdjTp028yo",
        "ETtoXh183Mj9",
        "F7EgUT0351z-",
        "tNpm5axh3h6i",
        "ZfGywPtw4CC5",
        "8c02GxK44SMd",
        "FEPCGYHU4YI1"
      ]
    },
    "kernelspec": {
      "name": "python3",
      "display_name": "Python 3"
    }
  },
  "cells": [
    {
      "cell_type": "markdown",
      "metadata": {
        "id": "ozYzGkmi1Pcy",
        "colab_type": "text"
      },
      "source": [
        "#Data Science Project: Analisis Data COVID19 di Dunia & ASEAN"
      ]
    },
    {
      "cell_type": "markdown",
      "metadata": {
        "id": "BuC2Cpve5hka",
        "colab_type": "text"
      },
      "source": [
        "##1. Pendahuluan"
      ]
    },
    {
      "cell_type": "markdown",
      "metadata": {
        "id": "Pv-fTWJc1B1w",
        "colab_type": "text"
      },
      "source": [
        "Covid19 adalah pandemi yang sudah mewabah ke seluruh dunia. Sebagian besar negara-negara di dunia sudah terjangkit. Penanganan tiap-tiap negara pun berbeda, sesuai dengan kebijakan pemerintah. Hal ini mengakibatkan perbedaan trend kenaikan atau penurunan kasus covid berbeda-beda tiap negara.\n",
        "\n",
        "Pada kasus kali ini, kita akan mencoba menggali data covid19 dari salah satu open api yang tersedia yaitu https://covid19-api.org/."
      ]
    },
    {
      "cell_type": "markdown",
      "metadata": {
        "id": "3GwDb2aq0oQ-",
        "colab_type": "text"
      },
      "source": [
        "### 1.1. Import Libraries"
      ]
    },
    {
      "cell_type": "code",
      "metadata": {
        "id": "qJQVaQ420Xi1",
        "colab_type": "code",
        "colab": {}
      },
      "source": [
        "import json\n",
        "import numpy as np\n",
        "import pandas as pd\n",
        "import requests\n",
        "import matplotlib.pyplot as plt"
      ],
      "execution_count": 1,
      "outputs": []
    },
    {
      "cell_type": "markdown",
      "metadata": {
        "id": "kgKPdo3t5nuv",
        "colab_type": "text"
      },
      "source": [
        "##2. Mengakses Data Covid-19 Dari https://covid19-api.org"
      ]
    },
    {
      "cell_type": "markdown",
      "metadata": {
        "id": "Xf11-OgX6l9n",
        "colab_type": "text"
      },
      "source": [
        "###2.1. Membuat Fungsi get API"
      ]
    },
    {
      "cell_type": "markdown",
      "metadata": {
        "id": "F6cfXk1f6lEV",
        "colab_type": "text"
      },
      "source": [
        "Buat fungsi python get_json dengan parameter api_url. fungsi ini akan mengembalikan value berupa python dictionary jika status_code yang dihasilkan adalah 200. Jika tidak, maka value yang dikembalikan adalah None."
      ]
    },
    {
      "cell_type": "code",
      "metadata": {
        "id": "1ShPnCCs0trm",
        "colab_type": "code",
        "colab": {}
      },
      "source": [
        "def get_json(api_url):\n",
        "\tresponse = requests.get(api_url)\n",
        "\tif response.status_code == 200:\n",
        "\t\treturn json.loads(response.content.decode('utf-8'))\n",
        "\telse:\n",
        "\t\treturn None"
      ],
      "execution_count": 2,
      "outputs": []
    },
    {
      "cell_type": "markdown",
      "metadata": {
        "id": "Q8m3b2CD1dJz",
        "colab_type": "text"
      },
      "source": [
        "### 2.2. Memanggil API Covid19"
      ]
    },
    {
      "cell_type": "markdown",
      "metadata": {
        "id": "3_l12PWD1cKp",
        "colab_type": "text"
      },
      "source": [
        "Rekapitulasi data COVID-19 global berada di https://covid19-api.org/. Gunakan parameter record_date untuk mengambil data covid19 di seluruh negara pada tanggal tertentu. Untuk kasus ini, gunakan record_date '2020-08-17', dan masukkan hasil respon api ke variable df_covid_worldwide.\n",
        "\n",
        "Untuk mendapatkan dataframe covid19, gunakan fungsi pd.io.json.json_normalize dan panggil function yang sudah dibuat sebelumnya, yaitu get_json() Print sample data covid dengan menggunakan head() function."
      ]
    },
    {
      "cell_type": "code",
      "metadata": {
        "id": "Qo5dbxmD09Tg",
        "colab_type": "code",
        "colab": {
          "base_uri": "https://localhost:8080/",
          "height": 147
        },
        "outputId": "2e77d98c-e1a1-4ef6-c9ba-e8ae5754e774"
      },
      "source": [
        "record_date = '2020-09-14'\n",
        "covid_url = 'https://covid19-api.org/api/status?date='+record_date\n",
        "df_covid_worldwide = pd.io.json.json_normalize(get_json(covid_url))\n",
        "\n",
        "print(df_covid_worldwide.head())"
      ],
      "execution_count": 3,
      "outputs": [
        {
          "output_type": "stream",
          "text": [
            "  country          last_update    cases  deaths  recovered\n",
            "0      US  2020-09-13T23:25:59  6516861  194033    2451406\n",
            "1      IN  2020-09-13T23:25:59  4754356   78586    3702595\n",
            "2      BR  2020-09-13T23:25:59  4330455  131625    3723206\n",
            "3      RU  2020-09-13T23:25:59  1059024   18517     873684\n",
            "4      PE  2020-09-13T23:25:59   722832   30526     559321\n"
          ],
          "name": "stdout"
        },
        {
          "output_type": "stream",
          "text": [
            "/usr/local/lib/python3.6/dist-packages/ipykernel_launcher.py:3: FutureWarning: pandas.io.json.json_normalize is deprecated, use pandas.json_normalize instead\n",
            "  This is separate from the ipykernel package so we can avoid doing imports until\n"
          ],
          "name": "stderr"
        }
      ]
    },
    {
      "cell_type": "markdown",
      "metadata": {
        "id": "7-3R1b2M12Wk",
        "colab_type": "text"
      },
      "source": [
        "### 2.3. Merubah Format Date"
      ]
    },
    {
      "cell_type": "markdown",
      "metadata": {
        "id": "q6Wwwc_O1wwi",
        "colab_type": "text"
      },
      "source": [
        "Ubah format kolom 'last_update' menggunakan fungsi to_datetime dengan format YYYY-mm-dd HH:MM:SS. Lalu ubah bentuk datetime ke bentuk date dengan fungsi date() melalui fungsi lambda untuk mengubah setiap row-nya.\n",
        "\n",
        " "
      ]
    },
    {
      "cell_type": "code",
      "metadata": {
        "id": "P4HCkA7Y1zJk",
        "colab_type": "code",
        "colab": {}
      },
      "source": [
        "df_covid_worldwide['last_update'] = pd.to_datetime(df_covid_worldwide['last_update'], format='%Y-%m-%d %H:%M:%S')\n",
        "df_covid_worldwide['last_update'] = df_covid_worldwide['last_update'].apply(lambda x: x.date())"
      ],
      "execution_count": 4,
      "outputs": []
    },
    {
      "cell_type": "markdown",
      "metadata": {
        "id": "zAUffTF82ATU",
        "colab_type": "text"
      },
      "source": [
        "### 2.4. Mengambil Data Countries"
      ]
    },
    {
      "cell_type": "markdown",
      "metadata": {
        "id": "1xSTegO11_nf",
        "colab_type": "text"
      },
      "source": [
        "Buatlah dataframe countries dengan memanggil variable countries_url ke api covid19-api.org. Lalu ubah nama kolom alpha2 menjadi country, kemudian ambil hanya kolom name dan country saja untuk dataframe countries (df_countries) ini.\n",
        "\n",
        "Akhirnya cetaklah lima data teratas dari dataframe countries (df_countries)."
      ]
    },
    {
      "cell_type": "code",
      "metadata": {
        "id": "wOfuC0EH2IqC",
        "colab_type": "code",
        "colab": {
          "base_uri": "https://localhost:8080/",
          "height": 147
        },
        "outputId": "eaf444c3-169d-4f05-e958-2112b3a70f95"
      },
      "source": [
        "countries_url = 'https://covid19-api.org/api/countries'\n",
        "df_countries = pd.io.json.json_normalize(get_json(countries_url))\n",
        "df_countries = df_countries.rename(columns={'alpha2': 'country'})[['name','country']]\n",
        "\n",
        "print(df_countries.head())"
      ],
      "execution_count": 5,
      "outputs": [
        {
          "output_type": "stream",
          "text": [
            "          name country\n",
            "0  Afghanistan      AF\n",
            "1      Albania      AL\n",
            "2      Algeria      DZ\n",
            "3      Andorra      AD\n",
            "4       Angola      AO\n"
          ],
          "name": "stdout"
        },
        {
          "output_type": "stream",
          "text": [
            "/usr/local/lib/python3.6/dist-packages/ipykernel_launcher.py:2: FutureWarning: pandas.io.json.json_normalize is deprecated, use pandas.json_normalize instead\n",
            "  \n"
          ],
          "name": "stderr"
        }
      ]
    },
    {
      "cell_type": "markdown",
      "metadata": {
        "id": "a223Tr_25sKV",
        "colab_type": "text"
      },
      "source": [
        "##3. Kasus Covid-19 di Dunia dan Negara Mana yang Tertinggi"
      ]
    },
    {
      "cell_type": "markdown",
      "metadata": {
        "id": "IHnoh-T-2U3c",
        "colab_type": "text"
      },
      "source": [
        "### 3.3. Merge Covid19 Data dan Countries"
      ]
    },
    {
      "cell_type": "markdown",
      "metadata": {
        "id": "kYSAaM3c2UXK",
        "colab_type": "text"
      },
      "source": [
        "Selanjutnya adalah mapping data covid19 dan data country. Gunakan fungsi merge pada pandas untuk menggabungkan df_covid_worldwide dan df_countries. Untuk merge, gunakan kolom country. Lalu print sample data dengan menggunakan head()."
      ]
    },
    {
      "cell_type": "code",
      "metadata": {
        "id": "hTPRR8JQ2WLm",
        "colab_type": "code",
        "colab": {
          "base_uri": "https://localhost:8080/",
          "height": 115
        },
        "outputId": "b0c499ee-94f7-44ce-c52d-a115bc1de086"
      },
      "source": [
        "df_covid_denormalized = pd.merge(df_covid_worldwide, df_countries, on='country')\n",
        "\n",
        "print(df_covid_denormalized.head())"
      ],
      "execution_count": 6,
      "outputs": [
        {
          "output_type": "stream",
          "text": [
            "  country last_update    cases  deaths  recovered                      name\n",
            "0      US  2020-09-13  6516861  194033    2451406  United States of America\n",
            "1      IN  2020-09-13  4754356   78586    3702595                     India\n",
            "2      BR  2020-09-13  4330455  131625    3723206                    Brazil\n",
            "3      RU  2020-09-13  1059024   18517     873684        Russian Federation\n",
            "4      PE  2020-09-13   722832   30526     559321                      Peru\n"
          ],
          "name": "stdout"
        }
      ]
    },
    {
      "cell_type": "markdown",
      "metadata": {
        "id": "kOgdyIvN2mxB",
        "colab_type": "text"
      },
      "source": [
        "### 3.4. Menghitung Fatality Ratio"
      ]
    },
    {
      "cell_type": "markdown",
      "metadata": {
        "id": "RE3DjYXl2mjY",
        "colab_type": "text"
      },
      "source": [
        "Tambahkan satu kolom tambahan yaitu fatality_ratio, yang merupakan pembagian antara kolom deaths dan cases."
      ]
    },
    {
      "cell_type": "code",
      "metadata": {
        "id": "p_1aEDY62nIU",
        "colab_type": "code",
        "colab": {}
      },
      "source": [
        "df_covid_denormalized['fatality_ratio'] = df_covid_denormalized['deaths']/df_covid_denormalized['cases']"
      ],
      "execution_count": 7,
      "outputs": []
    },
    {
      "cell_type": "markdown",
      "metadata": {
        "id": "SBvdjTp028yo",
        "colab_type": "text"
      },
      "source": [
        "### 3.5. Negara-negara dengan Fatality Ratio Tertinggi"
      ]
    },
    {
      "cell_type": "markdown",
      "metadata": {
        "id": "boYplxA229Eo",
        "colab_type": "text"
      },
      "source": [
        "Ambil top 20 negara dengan value kolom fatality_ratio tertinggi dengan menggunakan fungsi sort_values."
      ]
    },
    {
      "cell_type": "code",
      "metadata": {
        "id": "QePEAQLg257C",
        "colab_type": "code",
        "colab": {}
      },
      "source": [
        "df_top_20_fatality_rate = df_covid_denormalized.sort_values(by='fatality_ratio', ascending=False).head(20)"
      ],
      "execution_count": 8,
      "outputs": []
    },
    {
      "cell_type": "markdown",
      "metadata": {
        "id": "ETtoXh183Mj9",
        "colab_type": "text"
      },
      "source": [
        "### 3.6. Visualisasi Negara dengan Fatality Ratio Tertinggi"
      ]
    },
    {
      "cell_type": "markdown",
      "metadata": {
        "id": "ol5baK4X3MLF",
        "colab_type": "text"
      },
      "source": [
        "Untuk memvisualisasikan negara-negara dengan kasus fatality rate tertinggi akibat covid-19 ini dapat dilakukan dengan menggunakan bar chart.  Di sini tentukan terlebih dahulu isi dari variable x axis dan y axis.\n",
        "\n",
        "Variabel x axis adalah kolom name, dan kolom y atau value nya adalah kolom fatality_ratio dan gunakan fungsi plt.bar([value x axis, value y axis]).\n",
        "\n",
        "Label sumbu x diputar 90 derajat untuk menghindari bertumpuknya nama-nama negara pada posisi 0 derajat."
      ]
    },
    {
      "cell_type": "code",
      "metadata": {
        "id": "_zvPGJK23NN9",
        "colab_type": "code",
        "colab": {
          "base_uri": "https://localhost:8080/",
          "height": 585
        },
        "outputId": "4db0d0b0-b02c-4031-9385-f84e6535cbdd"
      },
      "source": [
        "import matplotlib.pyplot as plt\n",
        "plt.figure(figsize=(20, 8))\n",
        "x = df_top_20_fatality_rate['name']\n",
        "y = df_top_20_fatality_rate['fatality_ratio']\n",
        "plt.bar(x,y)\n",
        "plt.xlabel('Country Name')\n",
        "plt.ylabel('Fatality Rate')\n",
        "plt.title('Top 20 Highest Fatality Rate Countries')\n",
        "plt.xticks(rotation=90)\n",
        "plt.tight_layout()\n",
        "plt.show()"
      ],
      "execution_count": 9,
      "outputs": [
        {
          "output_type": "display_data",
          "data": {
            "image/png": "[encoded data removed]",
            "text/plain": [
              "<Figure size 1440x576 with 1 Axes>"
            ]
          },
          "metadata": {
            "tags": [],
            "needs_background": "light"
          }
        }
      ]
    },
    {
      "cell_type": "markdown",
      "metadata": {
        "id": "F7EgUT0351z-",
        "colab_type": "text"
      },
      "source": [
        "##4. Kasus Covid-19 di ASEAN"
      ]
    },
    {
      "cell_type": "markdown",
      "metadata": {
        "id": "tNpm5axh3h6i",
        "colab_type": "text"
      },
      "source": [
        "### 4.1. Menggabungkan Dataframe"
      ]
    },
    {
      "cell_type": "markdown",
      "metadata": {
        "id": "ANFnUoG93hsb",
        "colab_type": "text"
      },
      "source": [
        "Selanjutnya adalah membandingkan kasus covid19 di Indonesia (ID) dengan negara-negara tetangga, yaitu:\n",
        "\n",
        "*   MY -> Malaysia,\n",
        "*   SG -> Singapore,\n",
        "*   TH -> Thailand,\n",
        "*   VN -> Vietnam,\n",
        "\n",
        "Untuk itu, api country dipanggil berkali-kali sebanyak negara yang akan kita bandingkan.\n",
        "\n",
        "Gunakan fungsi pd.io.json.json_normalize dan panggil function yang sudah dibuat sebelumnya, yaitu get_json().\n",
        "\n",
        "Gunakan fungsi datetime untuk merubah string ke bentuk datetime (YYYY-mm-dd HH:MM:SS) yang selanjutnya diubah ke format date.\n",
        "\n",
        "Cetaklah lima data teratas dari dataframe yang telah dibentuk."
      ]
    },
    {
      "cell_type": "code",
      "metadata": {
        "id": "0sHfULIB3icw",
        "colab_type": "code",
        "colab": {
          "base_uri": "https://localhost:8080/",
          "height": 147
        },
        "outputId": "746c3152-7357-4514-893b-bbb299da41e9"
      },
      "source": [
        "countries = ['ID','MY','SG','TH','VN']\n",
        "i = 0\n",
        "for country in countries:\n",
        "\tcovid_timeline_url = 'https://covid19-api.org/api/timeline/'+country\n",
        "\tdf_covid_timeline = pd.io.json.json_normalize(get_json(covid_timeline_url))\n",
        "\tdf_covid_timeline['last_update'] = pd.to_datetime(df_covid_timeline['last_update'], format='%Y-%m-%dT%H:%M:%S')\n",
        "\tdf_covid_timeline['last_update'] = df_covid_timeline['last_update'].apply(lambda x: \tx.date())\n",
        "\tif i==0:\n",
        "\t\tdf_covid_timeline_merged = df_covid_timeline\n",
        "\telse:\n",
        "\t\tdf_covid_timeline_merged = df_covid_timeline.append(df_covid_timeline_merged, ignore_index=True)\n",
        "\ti=i+1\n",
        "\n",
        "print(df_covid_timeline_merged.head())"
      ],
      "execution_count": 10,
      "outputs": [
        {
          "output_type": "stream",
          "text": [
            "  country last_update  cases  deaths  recovered\n",
            "0      VN  2020-09-15   1063      35        926\n",
            "1      VN  2020-09-14   1063      35        918\n",
            "2      VN  2020-09-13   1063      35        918\n",
            "3      VN  2020-09-12   1060      35        902\n",
            "4      VN  2020-09-11   1060      35        902\n"
          ],
          "name": "stdout"
        },
        {
          "output_type": "stream",
          "text": [
            "/usr/local/lib/python3.6/dist-packages/ipykernel_launcher.py:5: FutureWarning: pandas.io.json.json_normalize is deprecated, use pandas.json_normalize instead\n",
            "  \"\"\"\n"
          ],
          "name": "stderr"
        }
      ]
    },
    {
      "cell_type": "markdown",
      "metadata": {
        "id": "ZfGywPtw4CC5",
        "colab_type": "text"
      },
      "source": [
        "###4.2. Merge Data Covid19 Dengan Data Country"
      ]
    },
    {
      "cell_type": "markdown",
      "metadata": {
        "id": "gSxpueDd4B1-",
        "colab_type": "text"
      },
      "source": [
        "Lalu gabungkan df_covid_timeline_merged dengan df_countries dengan kolom country sebagai pivot."
      ]
    },
    {
      "cell_type": "code",
      "metadata": {
        "id": "HyvYwrUk4Cly",
        "colab_type": "code",
        "colab": {}
      },
      "source": [
        "df_covid_timeline_denormalized = pd.merge(df_covid_timeline_merged, df_countries, on='country')"
      ],
      "execution_count": 11,
      "outputs": []
    },
    {
      "cell_type": "markdown",
      "metadata": {
        "id": "8c02GxK44SMd",
        "colab_type": "text"
      },
      "source": [
        "###4.3. Kasus Covid-19 di ASEAN pada Bulan Maret 2020"
      ]
    },
    {
      "cell_type": "markdown",
      "metadata": {
        "id": "xta1YL084Sgc",
        "colab_type": "text"
      },
      "source": [
        "Filter kolom last_update dari data covid19 sehingga hanya data dari tanggal 1 Maret 2020 ke atas yangdiambil. Format datetime.date menggunakan format YYYY, mm, dd."
      ]
    },
    {
      "cell_type": "code",
      "metadata": {
        "id": "ABPR0zGu4OeK",
        "colab_type": "code",
        "colab": {}
      },
      "source": [
        "import datetime\n",
        "df_covid_timeline_denormalized = df_covid_timeline_denormalized[(df_covid_timeline_denormalized['last_update'] >= datetime.date(2020, 3, 1))]"
      ],
      "execution_count": 12,
      "outputs": []
    },
    {
      "cell_type": "markdown",
      "metadata": {
        "id": "FEPCGYHU4YI1",
        "colab_type": "text"
      },
      "source": [
        "###4.4. Visualisasi Kasus Covid-19 di ASEAN"
      ]
    },
    {
      "cell_type": "markdown",
      "metadata": {
        "id": "rO4djKrK4YAa",
        "colab_type": "text"
      },
      "source": [
        "Buat variable x dan y dimana x adalah tanggal (last_update) pada tiap-tiap negara dan y adalah jumlah kasus (cases) pada tiap-tiap negara. Lalu plot x dan y untuk menggambar line chart."
      ]
    },
    {
      "cell_type": "code",
      "metadata": {
        "id": "0lOTr6Vf4Ys3",
        "colab_type": "code",
        "colab": {
          "base_uri": "https://localhost:8080/",
          "height": 295
        },
        "outputId": "fa140a0d-3e7f-43e0-80b9-13a5dd4c0a94"
      },
      "source": [
        "import matplotlib.pyplot as plt\n",
        "plt.clf()\n",
        "countries = ['ID','MY','SG','TH','VN']\n",
        "for country in countries:\n",
        "\tcountry_data = df_covid_timeline_denormalized['country']==country\n",
        "\tx = df_covid_timeline_denormalized[country_data]['last_update']\n",
        "\ty = df_covid_timeline_denormalized[country_data]['cases']\n",
        "\tplt.plot(x, y, label = country)\n",
        "\n",
        "plt.legend()\n",
        "plt.xlabel('Record Date')\n",
        "plt.ylabel('Total Cases')\n",
        "plt.title('Asean Covid19 Cases Comparison')\n",
        "plt.show()"
      ],
      "execution_count": 13,
      "outputs": [
        {
          "output_type": "display_data",
          "data": {
            "image/png": "[encoded data removed]",
            "text/plain": [
              "<Figure size 432x288 with 1 Axes>"
            ]
          },
          "metadata": {
            "tags": [],
            "needs_background": "light"
          }
        }
      ]
    }
  ]
}